{
 "metadata": {
  "language_info": {
   "codemirror_mode": {
    "name": "ipython",
    "version": 3
   },
   "file_extension": ".py",
   "mimetype": "text/x-python",
   "name": "python",
   "nbconvert_exporter": "python",
   "pygments_lexer": "ipython3",
   "version": "3.6.13"
  },
  "orig_nbformat": 2,
  "kernelspec": {
   "name": "python3",
   "display_name": "Python 3.6.13 64-bit ('qiime': conda)",
   "metadata": {
    "interpreter": {
     "hash": "00b233023580c049fd47649adf8cb226df3e5fcefed5e66d6a3b7f77a29bcea4"
    }
   }
  }
 },
 "nbformat": 4,
 "nbformat_minor": 2,
 "cells": [
  {
   "cell_type": "code",
   "execution_count": 7,
   "metadata": {},
   "outputs": [],
   "source": [
    "from glob import glob\n",
    "import gzip\n",
    "from collections import defaultdict\n",
    "\n",
    "import seaborn as sns\n",
    "import matplotlib.pyplot as plt\n",
    "\n",
    "from Bio import SeqIO"
   ]
  },
  {
   "cell_type": "code",
   "execution_count": 1,
   "metadata": {},
   "outputs": [],
   "source": [
    "from qiime2.metadata.metadata import Metadata\n"
   ]
  },
  {
   "cell_type": "code",
   "execution_count": 2,
   "metadata": {},
   "outputs": [],
   "source": [
    "data_path = glob('../raw_data/*.gz')"
   ]
  },
  {
   "cell_type": "code",
   "execution_count": 13,
   "metadata": {},
   "outputs": [
    {
     "output_type": "stream",
     "name": "stdout",
     "text": [
      "M04631:26:000000000-J9JH8:1:1102:8960:2016 M04631:26:000000000-J9JH8:1:1102:8960:2016 1:N:0:GACGCTCC TGGGGAATATTGCACAATGGGGGAAACCCTGATGCAGCAACGCCGCGTGAGTGATGACGGCCTTCGGGTTGTAAAGCTCTGTCTTCAGGGACGATAATGACGGTACCTGAGGAGGAAGCCACGGCTAACTACGTGCCAGCAGCCGCGGTAATACGTAGGTGGCGAGCGTTGTCCGGATTTACTTGGCGTAAAGGGAGCGTATGCGGACTTTTAAGTGAGATGTGAAATACCCGTGCTCAACTTGTGTGCTGCATTTCTAACTGTTAGTCTTGATTGTCGGAGATGAGAATGGAATTCCTAT\n{'phred_quality': [34, 34, 34, 34, 34, 38, 36, 38, 38, 38, 38, 38, 38, 38, 38, 38, 38, 38, 38, 38, 38, 38, 38, 38, 38, 38, 38, 34, 38, 38, 37, 37, 38, 38, 38, 38, 38, 38, 37, 38, 38, 37, 36, 37, 31, 34, 36, 38, 22, 22, 33, 37, 24, 31, 37, 37, 37, 38, 34, 22, 34, 37, 38, 38, 38, 22, 37, 37, 38, 38, 38, 38, 37, 34, 38, 34, 34, 37, 37, 37, 24, 37, 36, 37, 38, 37, 32, 27, 34, 35, 22, 37, 34, 22, 37, 38, 22, 31, 34, 27, 37, 37, 22, 37, 36, 36, 37, 36, 36, 23, 27, 10, 20, 10, 10, 33, 28, 11, 36, 37, 37, 30, 10, 10, 31, 37, 28, 11, 28, 34, 11, 35, 25, 34, 23, 33, 35, 24, 11, 37, 11, 31, 37, 34, 10, 34, 22, 22, 37, 10, 37, 38, 24, 34, 22, 18, 11, 18, 9, 36, 34, 22, 29, 9, 9, 27, 29, 20, 29, 37, 27, 33, 24, 26, 25, 31, 36, 37, 38, 38, 11, 19, 34, 11, 17, 11, 27, 9, 28, 9, 37, 9, 17, 11, 9, 9, 26, 9, 16, 33, 34, 9, 10, 18, 14, 25, 9, 14, 25, 27, 37, 38, 38, 21, 36, 37, 10, 10, 15, 10, 18, 25, 34, 25, 22, 10, 25, 32, 10, 15, 27, 34, 23, 9, 9, 20, 34, 15, 15, 10, 9, 27, 34, 22, 10, 10, 26, 28, 22, 34, 10, 27, 24, 27, 36, 34, 10, 10, 10, 10, 17, 25, 27, 17, 9, 10, 15, 18, 9, 27, 9, 9, 8, 9, 25, 24, 9, 9, 9, 9, 8, 12, 14, 15, 10, 13, 27, 32, 9, 24, 31, 9, 23, 30, 37, 38, 29, 17, 31, 17, 8]}\n"
     ]
    }
   ],
   "source": [
    "recs = SeqIO.parse(gzip.open('../raw_data/TG10008530_1.fastq.gz', 'rt', encoding='utf-8'), 'fastq')\n",
    "rec = next(recs)\n",
    "print(rec.id, rec.description, rec.seq)\n",
    "print(rec.letter_annotations)"
   ]
  },
  {
   "cell_type": "code",
   "execution_count": 8,
   "metadata": {},
   "outputs": [
    {
     "output_type": "stream",
     "name": "stdout",
     "text": [
      "T: 20.66 4304638\nG: 34.10 7106110\nA: 25.50 5312805\nC: 19.74 4113172\n"
     ]
    }
   ],
   "source": [
    "recs = SeqIO.parse(gzip.open('../raw_data/TG10008530_1.fastq.gz', 'rt', encoding='utf-8'), 'fastq')\n",
    "cnt = defaultdict(int)\n",
    "for rec in recs:\n",
    "    for letter in rec.seq:\n",
    "        cnt[letter] += 1\n",
    "tot = sum(cnt.values())\n",
    "for letter, cnt in cnt.items():\n",
    "    print('%s: %.2f %d' % (letter, 100. * cnt / tot, cnt))"
   ]
  },
  {
   "cell_type": "code",
   "execution_count": null,
   "metadata": {},
   "outputs": [],
   "source": []
  }
 ]
}