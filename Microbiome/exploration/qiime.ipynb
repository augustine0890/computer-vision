{
 "metadata": {
  "language_info": {
   "codemirror_mode": {
    "name": "ipython",
    "version": 3
   },
   "file_extension": ".py",
   "mimetype": "text/x-python",
   "name": "python",
   "nbconvert_exporter": "python",
   "pygments_lexer": "ipython3",
   "version": "3.6.13"
  },
  "orig_nbformat": 2,
  "kernelspec": {
   "name": "python3",
   "display_name": "Python 3.6.13 64-bit ('qiime': conda)",
   "metadata": {
    "interpreter": {
     "hash": "00b233023580c049fd47649adf8cb226df3e5fcefed5e66d6a3b7f77a29bcea4"
    }
   }
  }
 },
 "nbformat": 4,
 "nbformat_minor": 2,
 "cells": [
  {
   "cell_type": "code",
   "execution_count": 7,
   "metadata": {},
   "outputs": [],
   "source": [
    "import os\n",
    "import pandas as pd\n",
    "from glob import glob\n",
    "\n",
    "from qiime2.metadata.metadata import Metadata\n",
    "from qiime2.metadata.metadata import CategoricalMetadataColumn\n",
    "from qiime2.sdk import Artifact\n",
    "from qiime2.sdk import PluginManager\n",
    "from qiime2.sdk import Result"
   ]
  },
  {
   "cell_type": "code",
   "execution_count": 5,
   "metadata": {},
   "outputs": [],
   "source": [
    "data_path = glob('test/*.gz')"
   ]
  },
  {
   "cell_type": "code",
   "execution_count": 10,
   "metadata": {},
   "outputs": [
    {
     "output_type": "stream",
     "name": "stdout",
     "text": [
      "test\n['TG10008530_2', 'fastq', 'gz']\n"
     ]
    }
   ],
   "source": [
    "path, file_name = os.path.split(data_path[0])\n",
    "print(path)\n",
    "print(file_name.split(\".\"))"
   ]
  },
  {
   "cell_type": "code",
   "execution_count": 11,
   "metadata": {},
   "outputs": [
    {
     "output_type": "execute_result",
     "data": {
      "text/plain": [
       "['test/TG10008530_2', 'fastq', 'gz']"
      ]
     },
     "metadata": {},
     "execution_count": 11
    }
   ],
   "source": [
    "data_path[0].split(\".\")"
   ]
  },
  {
   "cell_type": "code",
   "execution_count": null,
   "metadata": {},
   "outputs": [],
   "source": [
    "writer_name = \"Manifest.csv\"\n",
    "writer = open(writer_name, \"w\")\n",
    "header = \"sample-id,absolute-filepath,direction\\n\"\n",
    "writer.write(header)"
   ]
  },
  {
   "cell_type": "code",
   "execution_count": 14,
   "metadata": {},
   "outputs": [
    {
     "output_type": "stream",
     "name": "stdout",
     "text": [
      "TG10008530,/Users/augustine/Documents/Code/computer-vision/Microbiome/exploration/test/TG10008530_2.fastq.gz,reverse\n\nTG10008530,/Users/augustine/Documents/Code/computer-vision/Microbiome/exploration/test/TG10008530_1.fastq.gz,forward\n\n"
     ]
    }
   ],
   "source": [
    "writer_name = \"Manifest.csv\"\n",
    "writer = open(writer_name, \"w\")\n",
    "header = \"sample-id,absolute-filepath,direction\\n\"\n",
    "writer.write(header)\n",
    "\n",
    "for data in data_path:\n",
    "    absolute_path = os.path.abspath(data)\n",
    "    path, file_name = os.path.split(data)\n",
    "    file_parts = file_name.split(\".\")\n",
    "    sample_id = file_parts[0][:-2]\n",
    "\n",
    "    if file_parts[0][-1] == \"1\":\n",
    "        direction = \"forward\"\n",
    "    else:\n",
    "        direction = \"reverse\"\n",
    "    line =  str(sample_id) + \",\" + str(absolute_path) + \",\" + str(direction) + \"\\n\"\n",
    "    print(line)\n",
    "    writer.write(line)\n",
    "writer.close()"
   ]
  },
  {
   "cell_type": "code",
   "execution_count": null,
   "metadata": {},
   "outputs": [],
   "source": []
  }
 ]
}