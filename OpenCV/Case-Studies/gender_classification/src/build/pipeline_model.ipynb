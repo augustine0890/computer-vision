{
 "metadata": {
  "language_info": {
   "codemirror_mode": {
    "name": "ipython",
    "version": 3
   },
   "file_extension": ".py",
   "mimetype": "text/x-python",
   "name": "python",
   "nbconvert_exporter": "python",
   "pygments_lexer": "ipython3",
   "version": "3.9.1-final"
  },
  "orig_nbformat": 2,
  "kernelspec": {
   "name": ".env",
   "display_name": ".env",
   "language": "python"
  }
 },
 "nbformat": 4,
 "nbformat_minor": 2,
 "cells": [
  {
   "cell_type": "code",
   "execution_count": 1,
   "metadata": {},
   "outputs": [],
   "source": [
    "import pickle\n",
    "import cv2\n",
    "\n",
    "import numpy as np\n",
    "import pandas as pd\n",
    "import matplotlib.pyplot as plt\n",
    "from sklearn.decomposition import PCA\n",
    "from sklearn.model_selection import train_test_split\n",
    "from sklearn.svm import SVC\n",
    "\n",
    "from sklearn import metrics"
   ]
  },
  {
   "cell_type": "code",
   "execution_count": 2,
   "metadata": {},
   "outputs": [],
   "source": [
    "# load the model\n",
    "faceCascade = cv2.CascadeClassifier('../model/haarcascade_frontalface_default.xml')\n",
    "# load pickle file\n",
    "mean = pickle.load(open('../model/mean_preprocess.pickle', 'rb'))\n",
    "pca_50 = pickle.load(open('../model/pca_50.pickle', 'rb'))\n",
    "model_svm = pickle.load(open('../model/model_svm.pickle', 'rb'))"
   ]
  },
  {
   "cell_type": "code",
   "execution_count": 3,
   "metadata": {},
   "outputs": [],
   "source": [
    " font = cv2.FONT_HERSHEY_SIMPLEX"
   ]
  },
  {
   "cell_type": "code",
   "execution_count": 7,
   "metadata": {},
   "outputs": [],
   "source": [
    "# test data\n",
    "data_path = '../data/test/male_test.png'\n",
    "color = 'bgr'\n",
    "# step 1: read image\n",
    "img = cv2.imread(data_path)\n",
    "\n",
    "def pipeline_model(img, color='BGR'):\n",
    "    # step 2: convert into gray scale\n",
    "    if color == 'BGR':\n",
    "        gray = cv2.cvtColor(img, cv2.COLOR_BGR2GRAY)\n",
    "    else:\n",
    "        gray = cv2.cvtColor(img, cv2.COLOR_RGB2GRAY)\n",
    "\n",
    "    # step 3: crop the face (using haar cascase classifier)\n",
    "    faces = faceCascade.detectMultiScale(\n",
    "        gray,\n",
    "        scaleFactor=1.2,\n",
    "        minNeighbors=5,\n",
    "        minSize=(30, 30),\n",
    "        flags = cv2.CASCADE_SCALE_IMAGE\n",
    "    )\n",
    "    for (x, y, w, h) in faces:\n",
    "        cv2.rectangle(img, (x,y), (x+w, y+h), (0,255,0), 2) # drawing rectangle\n",
    "        roi = gray[y:y+h, x:x+h] # crop image\n",
    "\n",
    "        # step 4: normalization (0-1)\n",
    "        roi = roi / 255.0\n",
    "        # step 5: resize image (80,80)\n",
    "        if roi.shape[1] > 80:\n",
    "            roi_resize = cv2.resize(roi, (80,80), cv2.INTER_AREA)\n",
    "        else:\n",
    "            roi_resize = cv2.resize(roi, (80,80), cv2.INTER_CUBIC)\n",
    "\n",
    "        # step 6: Flattening (1x6400)\n",
    "        roi_reshape = roi_resize.reshape(1, 6400) # 1, -1\n",
    "        # step 7: Subtract with mean\n",
    "        roi_mean = roi_reshape - mean\n",
    "\n",
    "        # step 8: Get eigen image\n",
    "        eigen_image = pca_50.transform(roi_mean)\n",
    "        # step 9: Predict (svm)\n",
    "        results = model_svm.predict_proba(eigen_image)[0]\n",
    "        # step 10:\n",
    "        predict = results.argmax() # 0 or 1\n",
    "        score = results[predict]\n",
    "        # step 11:\n",
    "        text = \"%s: %0.2f\" % ('male' if predict else 'female', score)\n",
    "        cv2.putText(img, text, (x+5,y-8), font, 0.7, (0,255,0), 2)\n",
    "\n",
    "    return img\n",
    "\n"
   ]
  },
  {
   "cell_type": "code",
   "execution_count": null,
   "metadata": {},
   "outputs": [],
   "source": []
  }
 ]
}