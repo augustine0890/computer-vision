{
 "metadata": {
  "language_info": {
   "codemirror_mode": {
    "name": "ipython",
    "version": 3
   },
   "file_extension": ".py",
   "mimetype": "text/x-python",
   "name": "python",
   "nbconvert_exporter": "python",
   "pygments_lexer": "ipython3",
   "version": "3.9.1-final"
  },
  "orig_nbformat": 2,
  "kernelspec": {
   "name": ".env",
   "display_name": ".env",
   "language": "python"
  }
 },
 "nbformat": 4,
 "nbformat_minor": 2,
 "cells": [
  {
   "cell_type": "code",
   "execution_count": 2,
   "metadata": {},
   "outputs": [],
   "source": [
    "import numpy as np\n",
    "import pandas as pd\n",
    "import matplotlib.pyplot as plt\n",
    "import cv2\n",
    "from PIL import Image\n",
    "import pickle"
   ]
  },
  {
   "cell_type": "code",
   "execution_count": 4,
   "metadata": {},
   "outputs": [
    {
     "output_type": "execute_result",
     "data": {
      "text/plain": [
       "   gender    0    1    2    3    4    5    6    7    8  ...  6390  6391  6392  \\\n",
       "0  female  235  230  229  228  228  230  218  185  177  ...    83    84    86   \n",
       "1  female  125  120  150  181  175  139  109  112  130  ...   112   112   116   \n",
       "2  female   55   35   31   34   35   33   31   31   31  ...    25    29    25   \n",
       "3  female   40   42   48   46   43   44   46   43   40  ...     2     3     6   \n",
       "4  female   44   52   59   61   63   62   59   57   55  ...    32    32    34   \n",
       "\n",
       "   6393  6394  6395  6396  6397  6398  6399  \n",
       "0   102   114    99   113   120   133   136  \n",
       "1   122   121   126   123   115   109   107  \n",
       "2    30    29    22    50   130   166   175  \n",
       "3    11    14    15    14    12    14    11  \n",
       "4    39    48    56    61    65    69    69  \n",
       "\n",
       "[5 rows x 6401 columns]"
      ],
      "text/html": "<div>\n<style scoped>\n    .dataframe tbody tr th:only-of-type {\n        vertical-align: middle;\n    }\n\n    .dataframe tbody tr th {\n        vertical-align: top;\n    }\n\n    .dataframe thead th {\n        text-align: right;\n    }\n</style>\n<table border=\"1\" class=\"dataframe\">\n  <thead>\n    <tr style=\"text-align: right;\">\n      <th></th>\n      <th>gender</th>\n      <th>0</th>\n      <th>1</th>\n      <th>2</th>\n      <th>3</th>\n      <th>4</th>\n      <th>5</th>\n      <th>6</th>\n      <th>7</th>\n      <th>8</th>\n      <th>...</th>\n      <th>6390</th>\n      <th>6391</th>\n      <th>6392</th>\n      <th>6393</th>\n      <th>6394</th>\n      <th>6395</th>\n      <th>6396</th>\n      <th>6397</th>\n      <th>6398</th>\n      <th>6399</th>\n    </tr>\n  </thead>\n  <tbody>\n    <tr>\n      <th>0</th>\n      <td>female</td>\n      <td>235</td>\n      <td>230</td>\n      <td>229</td>\n      <td>228</td>\n      <td>228</td>\n      <td>230</td>\n      <td>218</td>\n      <td>185</td>\n      <td>177</td>\n      <td>...</td>\n      <td>83</td>\n      <td>84</td>\n      <td>86</td>\n      <td>102</td>\n      <td>114</td>\n      <td>99</td>\n      <td>113</td>\n      <td>120</td>\n      <td>133</td>\n      <td>136</td>\n    </tr>\n    <tr>\n      <th>1</th>\n      <td>female</td>\n      <td>125</td>\n      <td>120</td>\n      <td>150</td>\n      <td>181</td>\n      <td>175</td>\n      <td>139</td>\n      <td>109</td>\n      <td>112</td>\n      <td>130</td>\n      <td>...</td>\n      <td>112</td>\n      <td>112</td>\n      <td>116</td>\n      <td>122</td>\n      <td>121</td>\n      <td>126</td>\n      <td>123</td>\n      <td>115</td>\n      <td>109</td>\n      <td>107</td>\n    </tr>\n    <tr>\n      <th>2</th>\n      <td>female</td>\n      <td>55</td>\n      <td>35</td>\n      <td>31</td>\n      <td>34</td>\n      <td>35</td>\n      <td>33</td>\n      <td>31</td>\n      <td>31</td>\n      <td>31</td>\n      <td>...</td>\n      <td>25</td>\n      <td>29</td>\n      <td>25</td>\n      <td>30</td>\n      <td>29</td>\n      <td>22</td>\n      <td>50</td>\n      <td>130</td>\n      <td>166</td>\n      <td>175</td>\n    </tr>\n    <tr>\n      <th>3</th>\n      <td>female</td>\n      <td>40</td>\n      <td>42</td>\n      <td>48</td>\n      <td>46</td>\n      <td>43</td>\n      <td>44</td>\n      <td>46</td>\n      <td>43</td>\n      <td>40</td>\n      <td>...</td>\n      <td>2</td>\n      <td>3</td>\n      <td>6</td>\n      <td>11</td>\n      <td>14</td>\n      <td>15</td>\n      <td>14</td>\n      <td>12</td>\n      <td>14</td>\n      <td>11</td>\n    </tr>\n    <tr>\n      <th>4</th>\n      <td>female</td>\n      <td>44</td>\n      <td>52</td>\n      <td>59</td>\n      <td>61</td>\n      <td>63</td>\n      <td>62</td>\n      <td>59</td>\n      <td>57</td>\n      <td>55</td>\n      <td>...</td>\n      <td>32</td>\n      <td>32</td>\n      <td>34</td>\n      <td>39</td>\n      <td>48</td>\n      <td>56</td>\n      <td>61</td>\n      <td>65</td>\n      <td>69</td>\n      <td>69</td>\n    </tr>\n  </tbody>\n</table>\n<p>5 rows × 6401 columns</p>\n</div>"
     },
     "metadata": {},
     "execution_count": 4
    }
   ],
   "source": [
    "df = pickle.load(open('../data/df_80x80.pickle', 'rb'))\n",
    "df.head()"
   ]
  },
  {
   "cell_type": "code",
   "execution_count": 7,
   "metadata": {},
   "outputs": [
    {
     "output_type": "stream",
     "name": "stdout",
     "text": [
      "<class 'pandas.core.frame.DataFrame'>\nRangeIndex: 934 entries, 0 to 933\nColumns: 6401 entries, gender to 6399\ndtypes: object(1), uint8(6400)\nmemory usage: 5.7+ MB\n"
     ]
    }
   ],
   "source": [
    "df.info()"
   ]
  },
  {
   "cell_type": "code",
   "execution_count": 9,
   "metadata": {},
   "outputs": [],
   "source": [
    "# split the into two parts\n",
    "X = df.iloc[:, 1:].values\n",
    "y = df.iloc[:, 0]"
   ]
  },
  {
   "cell_type": "code",
   "execution_count": 13,
   "metadata": {},
   "outputs": [
    {
     "output_type": "execute_result",
     "data": {
      "text/plain": [
       "(934, 6400)"
      ]
     },
     "metadata": {},
     "execution_count": 13
    }
   ],
   "source": [
    "X.shape"
   ]
  },
  {
   "cell_type": "code",
   "execution_count": 14,
   "metadata": {},
   "outputs": [],
   "source": [
    "X_norm = X / X.max()"
   ]
  },
  {
   "cell_type": "code",
   "execution_count": 18,
   "metadata": {},
   "outputs": [],
   "source": [
    "# male = 1, female = 0\n",
    "y = np.where(y=='male',1,0)"
   ]
  },
  {
   "cell_type": "code",
   "execution_count": 20,
   "metadata": {},
   "outputs": [],
   "source": [
    "# saving x and y\n",
    "np.savez('../data/data_80x80', X_norm, y)"
   ]
  },
  {
   "cell_type": "code",
   "execution_count": null,
   "metadata": {},
   "outputs": [],
   "source": []
  }
 ]
}